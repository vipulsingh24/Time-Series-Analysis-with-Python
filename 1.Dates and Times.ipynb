{
 "cells": [
  {
   "cell_type": "code",
   "execution_count": 1,
   "metadata": {
    "collapsed": true
   },
   "outputs": [],
   "source": [
    "import pandas as pd\n",
    "import numpy as np"
   ]
  },
  {
   "cell_type": "markdown",
   "metadata": {},
   "source": [
    "# Generate series of time"
   ]
  },
  {
   "cell_type": "code",
   "execution_count": 2,
   "metadata": {},
   "outputs": [
    {
     "data": {
      "text/plain": [
       "DatetimeIndex(['2018-04-07 06:30:00', '2018-04-07 07:30:00',\n",
       "               '2018-04-07 08:30:00', '2018-04-07 09:30:00',\n",
       "               '2018-04-07 10:30:00', '2018-04-07 11:30:00',\n",
       "               '2018-04-07 12:30:00', '2018-04-07 13:30:00',\n",
       "               '2018-04-07 14:30:00', '2018-04-07 15:30:00'],\n",
       "              dtype='datetime64[ns]', freq='H')"
      ]
     },
     "execution_count": 2,
     "metadata": {},
     "output_type": "execute_result"
    }
   ],
   "source": [
    "rng = pd.date_range('2018 Apr 7 6:30', periods=10, freq='H')\n",
    "rng"
   ]
  },
  {
   "cell_type": "markdown",
   "metadata": {},
   "source": [
    "Frequency as Month ('M')\n",
    "Month starts from the end of month date, you can use 'MS' for start date of month"
   ]
  },
  {
   "cell_type": "code",
   "execution_count": 3,
   "metadata": {},
   "outputs": [
    {
     "data": {
      "text/plain": [
       "DatetimeIndex(['2018-04-30 06:30:00', '2018-05-31 06:30:00',\n",
       "               '2018-06-30 06:30:00', '2018-07-31 06:30:00',\n",
       "               '2018-08-31 06:30:00', '2018-09-30 06:30:00',\n",
       "               '2018-10-31 06:30:00', '2018-11-30 06:30:00',\n",
       "               '2018-12-31 06:30:00', '2019-01-31 06:30:00'],\n",
       "              dtype='datetime64[ns]', freq='M')"
      ]
     },
     "execution_count": 3,
     "metadata": {},
     "output_type": "execute_result"
    }
   ],
   "source": [
    "rng = pd.date_range('2018 Apr 7 6:30', periods=10, freq='M')\n",
    "rng"
   ]
  },
  {
   "cell_type": "markdown",
   "metadata": {},
   "source": [
    "Frequency as Business month ('B')"
   ]
  },
  {
   "cell_type": "code",
   "execution_count": 4,
   "metadata": {},
   "outputs": [
    {
     "data": {
      "text/plain": [
       "DatetimeIndex(['2018-04-09 06:30:00', '2018-04-10 06:30:00',\n",
       "               '2018-04-11 06:30:00', '2018-04-12 06:30:00',\n",
       "               '2018-04-13 06:30:00', '2018-04-16 06:30:00',\n",
       "               '2018-04-17 06:30:00', '2018-04-18 06:30:00',\n",
       "               '2018-04-19 06:30:00', '2018-04-20 06:30:00'],\n",
       "              dtype='datetime64[ns]', freq='B')"
      ]
     },
     "execution_count": 4,
     "metadata": {},
     "output_type": "execute_result"
    }
   ],
   "source": [
    "rng = pd.date_range('2018 Apr 7 6:30', periods=10, freq='B')\n",
    "rng"
   ]
  },
  {
   "cell_type": "markdown",
   "metadata": {},
   "source": [
    "There are many other type of frequencies.\n",
    "List of time series frequencies https://pandas.pydata.org/pandas-docs/stable/timeseries.html#timeseries-offset-aliases"
   ]
  },
  {
   "cell_type": "code",
   "execution_count": 5,
   "metadata": {},
   "outputs": [
    {
     "data": {
      "text/plain": [
       "DatetimeIndex(['2018-04-07 00:00:00', '2018-04-07 08:00:00',\n",
       "               '2018-04-07 16:00:00', '2018-04-08 00:00:00',\n",
       "               '2018-04-08 08:00:00', '2018-04-08 16:00:00',\n",
       "               '2018-04-09 00:00:00', '2018-04-09 08:00:00',\n",
       "               '2018-04-09 16:00:00', '2018-04-10 00:00:00',\n",
       "               '2018-04-10 08:00:00', '2018-04-10 16:00:00',\n",
       "               '2018-04-11 00:00:00', '2018-04-11 08:00:00',\n",
       "               '2018-04-11 16:00:00', '2018-04-12 00:00:00',\n",
       "               '2018-04-12 08:00:00', '2018-04-12 16:00:00',\n",
       "               '2018-04-13 00:00:00', '2018-04-13 08:00:00',\n",
       "               '2018-04-13 16:00:00', '2018-04-14 00:00:00',\n",
       "               '2018-04-14 08:00:00', '2018-04-14 16:00:00',\n",
       "               '2018-04-15 00:00:00', '2018-04-15 08:00:00',\n",
       "               '2018-04-15 16:00:00', '2018-04-16 00:00:00',\n",
       "               '2018-04-16 08:00:00', '2018-04-16 16:00:00',\n",
       "               '2018-04-17 00:00:00', '2018-04-17 08:00:00',\n",
       "               '2018-04-17 16:00:00', '2018-04-18 00:00:00',\n",
       "               '2018-04-18 08:00:00', '2018-04-18 16:00:00',\n",
       "               '2018-04-19 00:00:00', '2018-04-19 08:00:00',\n",
       "               '2018-04-19 16:00:00', '2018-04-20 00:00:00'],\n",
       "              dtype='datetime64[ns]', freq='8H')"
      ]
     },
     "execution_count": 5,
     "metadata": {},
     "output_type": "execute_result"
    }
   ],
   "source": [
    "rng = pd.date_range(start='2018 Apr 7', end='2018 Apr 20', freq='8H')\n",
    "rng"
   ]
  },
  {
   "cell_type": "markdown",
   "metadata": {},
   "source": [
    "Or it can be done using datetime"
   ]
  },
  {
   "cell_type": "code",
   "execution_count": 6,
   "metadata": {},
   "outputs": [
    {
     "data": {
      "text/plain": [
       "DatetimeIndex(['2018-04-01', '2018-04-02', '2018-04-03', '2018-04-04',\n",
       "               '2018-04-05', '2018-04-06', '2018-04-07', '2018-04-08',\n",
       "               '2018-04-09', '2018-04-10', '2018-04-11', '2018-04-12',\n",
       "               '2018-04-13', '2018-04-14', '2018-04-15', '2018-04-16',\n",
       "               '2018-04-17', '2018-04-18', '2018-04-19', '2018-04-20'],\n",
       "              dtype='datetime64[ns]', freq='D')"
      ]
     },
     "execution_count": 6,
     "metadata": {},
     "output_type": "execute_result"
    }
   ],
   "source": [
    "start=pd.datetime(2018, 4, 1)\n",
    "end = pd.datetime(2018, 4, 20)\n",
    "rng = pd.date_range(start, end, freq='D')\n",
    "rng"
   ]
  },
  {
   "cell_type": "code",
   "execution_count": 7,
   "metadata": {},
   "outputs": [
    {
     "data": {
      "text/plain": [
       "DatetimeIndex(['2018-04-07 00:00:00+05:30', '2018-04-08 00:00:00+05:30',\n",
       "               '2018-04-09 00:00:00+05:30', '2018-04-10 00:00:00+05:30',\n",
       "               '2018-04-11 00:00:00+05:30', '2018-04-12 00:00:00+05:30',\n",
       "               '2018-04-13 00:00:00+05:30', '2018-04-14 00:00:00+05:30',\n",
       "               '2018-04-15 00:00:00+05:30', '2018-04-16 00:00:00+05:30'],\n",
       "              dtype='datetime64[ns, Asia/Kolkata]', freq='D')"
      ]
     },
     "execution_count": 7,
     "metadata": {},
     "output_type": "execute_result"
    }
   ],
   "source": [
    "rng = pd.date_range('2018 Apr 7', periods=10, freq='D', tz='Asia/Kolkata')\n",
    "rng"
   ]
  },
  {
   "cell_type": "code",
   "execution_count": 8,
   "metadata": {},
   "outputs": [
    {
     "data": {
      "text/plain": [
       "DatetimeIndex(['2018-04-07', '2018-04-08', '2018-04-09', '2018-04-10',\n",
       "               '2018-04-11', '2018-04-12', '2018-04-13', '2018-04-14',\n",
       "               '2018-04-15', '2018-04-16'],\n",
       "              dtype='datetime64[ns]', freq='D')"
      ]
     },
     "execution_count": 8,
     "metadata": {},
     "output_type": "execute_result"
    }
   ],
   "source": [
    "rng = pd.date_range('2018 Apr 7 6:00', periods=10, freq='D', normalize=True)\n",
    "rng "
   ]
  },
  {
   "cell_type": "markdown",
   "metadata": {},
   "source": [
    "# Dates format"
   ]
  },
  {
   "cell_type": "code",
   "execution_count": 111,
   "metadata": {},
   "outputs": [
    {
     "name": "stdout",
     "output_type": "stream",
     "text": [
      "DatetimeIndex(['2018-04-07', '2018-04-08', '2018-04-09', '2018-04-10',\n",
      "               '2018-04-11', '2018-04-12', '2018-04-13', '2018-04-14',\n",
      "               '2018-04-15', '2018-04-16'],\n",
      "              dtype='datetime64[ns]', freq='D')\n",
      "DatetimeIndex(['2018-04-07', '2018-04-08', '2018-04-09', '2018-04-10',\n",
      "               '2018-04-11', '2018-04-12', '2018-04-13', '2018-04-14',\n",
      "               '2018-04-15', '2018-04-16'],\n",
      "              dtype='datetime64[ns]', freq='D')\n",
      "DatetimeIndex(['2018-04-07', '2018-04-08', '2018-04-09', '2018-04-10',\n",
      "               '2018-04-11', '2018-04-12', '2018-04-13', '2018-04-14',\n",
      "               '2018-04-15', '2018-04-16'],\n",
      "              dtype='datetime64[ns]', freq='D')\n",
      "DatetimeIndex(['2018-04-07', '2018-04-08', '2018-04-09', '2018-04-10',\n",
      "               '2018-04-11', '2018-04-12', '2018-04-13', '2018-04-14',\n",
      "               '2018-04-15', '2018-04-16'],\n",
      "              dtype='datetime64[ns]', freq='D')\n"
     ]
    },
    {
     "data": {
      "text/plain": [
       "\"\\n# DD/MM/YYYY \\nrng = pd.date_range('07-04-2018', periods=10, freq='D')\\nprint(rng)\\n\""
      ]
     },
     "execution_count": 111,
     "metadata": {},
     "output_type": "execute_result"
    }
   ],
   "source": [
    "rng = pd.date_range('2018 Apr 7', periods=10, freq='D')\n",
    "print(rng)\n",
    "\n",
    "# MM/DD/YYYY\n",
    "rng = pd.date_range('4/7/2018', periods=10, freq='D')\n",
    "print(rng)\n",
    "\n",
    "rng = pd.date_range('April 7, 2018', periods=10, freq='D')\n",
    "print(rng)\n",
    "\n",
    "# YYYY/MM/DD\n",
    "rng = pd.date_range('2018-04-07', periods=10, freq='D')\n",
    "print(rng)\n",
    "\n",
    "'''\n",
    "# DD/MM/YYYY \n",
    "rng = pd.date_range('07-04-2018', periods=10, freq='D')\n",
    "print(rng)\n",
    "'''"
   ]
  },
  {
   "cell_type": "markdown",
   "metadata": {},
   "source": [
    "# Timestamp\n",
    "Represent a single timestamp"
   ]
  },
  {
   "cell_type": "code",
   "execution_count": 10,
   "metadata": {},
   "outputs": [
    {
     "data": {
      "text/plain": [
       "Timestamp('2018-04-07 00:00:00')"
      ]
     },
     "execution_count": 10,
     "metadata": {},
     "output_type": "execute_result"
    }
   ],
   "source": [
    "pd.Timestamp('2018-4-7')"
   ]
  },
  {
   "cell_type": "code",
   "execution_count": 11,
   "metadata": {},
   "outputs": [
    {
     "data": {
      "text/plain": [
       "Timestamp('2018-04-07 07:00:01.123456780')"
      ]
     },
     "execution_count": 11,
     "metadata": {},
     "output_type": "execute_result"
    }
   ],
   "source": [
    "pd.Timestamp('2018-4-7 7:00:01.12345678')"
   ]
  },
  {
   "cell_type": "markdown",
   "metadata": {},
   "source": [
    "Timestamp properties <br />\n",
    "http://pandas.pydata.org/pandas-docs/stable/timeseries.html#time-date-components"
   ]
  },
  {
   "cell_type": "code",
   "execution_count": 12,
   "metadata": {},
   "outputs": [
    {
     "data": {
      "text/plain": [
       "Timestamp('2018-04-07 19:00:00')"
      ]
     },
     "execution_count": 12,
     "metadata": {},
     "output_type": "execute_result"
    }
   ],
   "source": [
    "t = pd.Timestamp('2018-4-7 7 pm')\n",
    "t"
   ]
  },
  {
   "cell_type": "code",
   "execution_count": 13,
   "metadata": {},
   "outputs": [
    {
     "name": "stdout",
     "output_type": "stream",
     "text": [
      "2018\n",
      "4\n",
      "2\n",
      "5\n"
     ]
    }
   ],
   "source": [
    "print(t.year)\n",
    "print(t.month)\n",
    "print(t.quarter)\n",
    "print(t.dayofweek) # Monday=0...Sunday=6\n"
   ]
  },
  {
   "cell_type": "markdown",
   "metadata": {
    "collapsed": true
   },
   "source": [
    "# Time Offsets"
   ]
  },
  {
   "cell_type": "code",
   "execution_count": 14,
   "metadata": {},
   "outputs": [
    {
     "data": {
      "text/plain": [
       "Timedelta('1 days 00:00:00.000001')"
      ]
     },
     "execution_count": 14,
     "metadata": {},
     "output_type": "execute_result"
    }
   ],
   "source": [
    "pd.Timedelta('1 day 1us')"
   ]
  },
  {
   "cell_type": "code",
   "execution_count": 25,
   "metadata": {},
   "outputs": [
    {
     "data": {
      "text/plain": [
       "Timestamp('2018-04-07 09:30:00')"
      ]
     },
     "execution_count": 25,
     "metadata": {},
     "output_type": "execute_result"
    }
   ],
   "source": [
    "pd.Timestamp('2018-04-07 8:00') + pd.Timedelta('1.5 hours')"
   ]
  },
  {
   "cell_type": "code",
   "execution_count": 34,
   "metadata": {},
   "outputs": [
    {
     "data": {
      "text/plain": [
       "Timedelta('0 days 00:00:00.000015')"
      ]
     },
     "execution_count": 34,
     "metadata": {},
     "output_type": "execute_result"
    }
   ],
   "source": [
    "pd.Timedelta('15ns')*1000"
   ]
  },
  {
   "cell_type": "code",
   "execution_count": 36,
   "metadata": {},
   "outputs": [
    {
     "data": {
      "text/plain": [
       "DatetimeIndex(['2018-04-30', '2018-05-31', '2018-06-30', '2018-07-31',\n",
       "               '2018-08-31', '2018-09-30', '2018-10-31', '2018-11-30',\n",
       "               '2018-12-31', '2019-01-31'],\n",
       "              dtype='datetime64[ns]', freq='M')"
      ]
     },
     "execution_count": 36,
     "metadata": {},
     "output_type": "execute_result"
    }
   ],
   "source": [
    "rng = pd.date_range('2018/04/07', periods=10, freq='M')\n",
    "rng"
   ]
  },
  {
   "cell_type": "code",
   "execution_count": 38,
   "metadata": {},
   "outputs": [
    {
     "name": "stdout",
     "output_type": "stream",
     "text": [
      "DatetimeIndex(['2018-04-30', '2018-05-31', '2018-06-30', '2018-07-31',\n",
      "               '2018-08-31', '2018-09-30', '2018-10-31', '2018-11-30',\n",
      "               '2018-12-31', '2019-01-31'],\n",
      "              dtype='datetime64[ns]', freq='M')\n"
     ]
    },
    {
     "data": {
      "text/plain": [
       "DatetimeIndex(['2018-05-01', '2018-06-01', '2018-07-01', '2018-08-01',\n",
       "               '2018-09-01', '2018-10-01', '2018-11-01', '2018-12-01',\n",
       "               '2019-01-01', '2019-02-01'],\n",
       "              dtype='datetime64[ns]', freq='MS')"
      ]
     },
     "execution_count": 38,
     "metadata": {},
     "output_type": "execute_result"
    }
   ],
   "source": [
    "print(rng)\n",
    "rng + pd.Timedelta('1day') # See the last line of output 'freq'"
   ]
  },
  {
   "cell_type": "markdown",
   "metadata": {},
   "source": [
    "# Time Spans\n",
    "Period represents an interval while a Timestamp represents a point in time."
   ]
  },
  {
   "cell_type": "code",
   "execution_count": 58,
   "metadata": {},
   "outputs": [
    {
     "name": "stdout",
     "output_type": "stream",
     "text": [
      "Start Time:  2016-07-01 00:00:00\n",
      "End Time:  2016-07-31 23:59:59.999999999\n",
      "2016-07-21 00:00:00\n"
     ]
    },
    {
     "data": {
      "text/plain": [
       "True"
      ]
     },
     "execution_count": 58,
     "metadata": {},
     "output_type": "execute_result"
    }
   ],
   "source": [
    "p = pd.Period('7/2016')\n",
    "t = pd.Timestamp('7/21/2016')\n",
    "print('Start Time: ', p.start_time)\n",
    "print('End Time: ', p.end_time)\n",
    "print(t)\n",
    "p.start_time < t and p.end_time > t # Whether timestamp fall within the given period"
   ]
  },
  {
   "cell_type": "code",
   "execution_count": 18,
   "metadata": {},
   "outputs": [
    {
     "data": {
      "text/plain": [
       "PeriodIndex(['2018-04-08 20:00', '2018-04-08 21:00', '2018-04-08 22:00',\n",
       "             '2018-04-08 23:00', '2018-04-09 00:00', '2018-04-09 01:00',\n",
       "             '2018-04-09 02:00', '2018-04-09 03:00', '2018-04-09 04:00',\n",
       "             '2018-04-09 05:00'],\n",
       "            dtype='period[H]', freq='H')"
      ]
     },
     "execution_count": 18,
     "metadata": {},
     "output_type": "execute_result"
    }
   ],
   "source": [
    "rng = pd.period_range('2018-04-08 20:30', freq='H', periods=10)\n",
    "rng"
   ]
  },
  {
   "cell_type": "markdown",
   "metadata": {},
   "source": [
    "Above the time starts from 20:00 though passing as 20:30 so we change the frequency to 60T as shown below"
   ]
  },
  {
   "cell_type": "code",
   "execution_count": 43,
   "metadata": {},
   "outputs": [
    {
     "data": {
      "text/plain": [
       "PeriodIndex(['2018-04-08', '2018-04-09', '2018-04-10', '2018-04-11',\n",
       "             '2018-04-12', '2018-04-13', '2018-04-14', '2018-04-15',\n",
       "             '2018-04-16', '2018-04-17'],\n",
       "            dtype='period[D]', freq='D')"
      ]
     },
     "execution_count": 43,
     "metadata": {},
     "output_type": "execute_result"
    }
   ],
   "source": [
    "rng = pd.period_range('2018-04-08 20:30', freq='D', periods=10) # Time goes off\n",
    "rng"
   ]
  },
  {
   "cell_type": "markdown",
   "metadata": {},
   "source": [
    "Here the difference between **date_range** and <b>period_range</b> with change in frequency"
   ]
  },
  {
   "cell_type": "code",
   "execution_count": 44,
   "metadata": {},
   "outputs": [
    {
     "data": {
      "text/plain": [
       "DatetimeIndex(['2018-04-08 20:30:00', '2018-04-09 20:30:00',\n",
       "               '2018-04-10 20:30:00', '2018-04-11 20:30:00',\n",
       "               '2018-04-12 20:30:00', '2018-04-13 20:30:00',\n",
       "               '2018-04-14 20:30:00', '2018-04-15 20:30:00',\n",
       "               '2018-04-16 20:30:00', '2018-04-17 20:30:00'],\n",
       "              dtype='datetime64[ns]', freq='D')"
      ]
     },
     "execution_count": 44,
     "metadata": {},
     "output_type": "execute_result"
    }
   ],
   "source": [
    "rng = pd.date_range('2018-04-08 20:30', freq='D', periods=10)\n",
    "rng"
   ]
  },
  {
   "cell_type": "code",
   "execution_count": 49,
   "metadata": {},
   "outputs": [
    {
     "data": {
      "text/plain": [
       "PeriodIndex(['2018-04-08 20:30', '2018-04-08 21:30', '2018-04-08 22:30',\n",
       "             '2018-04-08 23:30', '2018-04-09 00:30', '2018-04-09 01:30',\n",
       "             '2018-04-09 02:30', '2018-04-09 03:30', '2018-04-09 04:30',\n",
       "             '2018-04-09 05:30'],\n",
       "            dtype='period[60T]', freq='60T')"
      ]
     },
     "execution_count": 49,
     "metadata": {},
     "output_type": "execute_result"
    }
   ],
   "source": [
    "rng = pd.period_range('2018-04-08 20:30', freq='60T', periods=10) # 60T = 60 mins = 1 hour\n",
    "rng"
   ]
  },
  {
   "cell_type": "code",
   "execution_count": 57,
   "metadata": {},
   "outputs": [
    {
     "data": {
      "text/plain": [
       "PeriodIndex(['2018-04-02/2018-04-08', '2018-04-09/2018-04-15',\n",
       "             '2018-04-16/2018-04-22', '2018-04-23/2018-04-29',\n",
       "             '2018-04-30/2018-05-06', '2018-05-07/2018-05-13',\n",
       "             '2018-05-14/2018-05-20', '2018-05-21/2018-05-27',\n",
       "             '2018-05-28/2018-06-03', '2018-06-04/2018-06-10'],\n",
       "            dtype='period[W-SUN]', freq='W-SUN')"
      ]
     },
     "execution_count": 57,
     "metadata": {},
     "output_type": "execute_result"
    }
   ],
   "source": [
    "rng = pd.period_range('2018-04-08', freq='W-SUN', periods=10) # Weekly Sunday\n",
    "rng"
   ]
  },
  {
   "cell_type": "markdown",
   "metadata": {},
   "source": [
    "**Index** a panda series with a **data_range**"
   ]
  },
  {
   "cell_type": "code",
   "execution_count": 94,
   "metadata": {},
   "outputs": [
    {
     "name": "stdout",
     "output_type": "stream",
     "text": [
      "2018-04-08 00:30:00    0\n",
      "2018-04-08 01:30:00    1\n",
      "2018-04-08 02:30:00    2\n",
      "2018-04-08 03:30:00    3\n",
      "2018-04-08 04:30:00    4\n",
      "Freq: 60T, dtype: int64\n",
      "<class 'pandas.core.indexes.datetimes.DatetimeIndex'>\n",
      "<class 'pandas._libs.tslib.Timestamp'>\n"
     ]
    }
   ],
   "source": [
    "num_periods = 100\n",
    "ts_data = pd.Series(range(num_periods), pd.date_range('2018-04-08 00:30', freq='60T', periods=num_periods))\n",
    "print(ts_data.head())\n",
    "print(type(ts_data.index))\n",
    "print(type(ts_data.index[0]))\n",
    "\n",
    "# We have datetime indexes they hold timestamp"
   ]
  },
  {
   "cell_type": "code",
   "execution_count": 71,
   "metadata": {},
   "outputs": [
    {
     "name": "stdout",
     "output_type": "stream",
     "text": [
      "11\n",
      "12\n"
     ]
    }
   ],
   "source": [
    "print(ts_data['2018-04-08 11:00'])\n",
    "# OR\n",
    "print(ts_data['2018 Apr 8 12'])"
   ]
  },
  {
   "cell_type": "markdown",
   "metadata": {},
   "source": [
    "**Index** a panda series with **period_range**"
   ]
  },
  {
   "cell_type": "code",
   "execution_count": 95,
   "metadata": {},
   "outputs": [
    {
     "name": "stdout",
     "output_type": "stream",
     "text": [
      "2018-04-08 00:30    0\n",
      "2018-04-08 01:30    1\n",
      "2018-04-08 02:30    2\n",
      "2018-04-08 03:30    3\n",
      "2018-04-08 04:30    4\n",
      "Freq: 60T, dtype: int64\n",
      "<class 'pandas.core.indexes.period.PeriodIndex'>\n",
      "<class 'pandas._libs.period.Period'>\n"
     ]
    }
   ],
   "source": [
    "num_periods = 100\n",
    "ts_pd = pd.Series(range(num_periods), pd.period_range('2018-04-08 00:30', freq='60T', periods=num_periods))\n",
    "print(ts_pd.head())\n",
    "print(type(ts_pd.index))\n",
    "print(type(ts_pd.index[0]))"
   ]
  },
  {
   "cell_type": "markdown",
   "metadata": {},
   "source": [
    "Convert date_range to period_range"
   ]
  },
  {
   "cell_type": "code",
   "execution_count": 96,
   "metadata": {},
   "outputs": [
    {
     "name": "stdout",
     "output_type": "stream",
     "text": [
      "2018-04-08 00:30    0\n",
      "2018-04-08 01:30    1\n",
      "2018-04-08 02:30    2\n",
      "2018-04-08 03:30    3\n",
      "2018-04-08 04:30    4\n",
      "Freq: 60T, dtype: int64\n",
      "<class 'pandas.core.indexes.period.PeriodIndex'>\n",
      "<class 'pandas._libs.period.Period'>\n"
     ]
    }
   ],
   "source": [
    "ts_period = ts_data.to_period(freq='60T')\n",
    "print(ts_period.head())\n",
    "print(type(ts_period.index))\n",
    "print(type(ts_period.index[0]))"
   ]
  },
  {
   "cell_type": "markdown",
   "metadata": {},
   "source": [
    "# Indexes\n",
    "Working with datetime index"
   ]
  },
  {
   "cell_type": "code",
   "execution_count": 89,
   "metadata": {},
   "outputs": [
    {
     "data": {
      "text/plain": [
       "2018-04-08 12:30:00    12\n",
       "Freq: 60T, dtype: int64"
      ]
     },
     "execution_count": 89,
     "metadata": {},
     "output_type": "execute_result"
    }
   ],
   "source": [
    "ts_data['2018-04-08 12']"
   ]
  },
  {
   "cell_type": "code",
   "execution_count": 91,
   "metadata": {},
   "outputs": [
    {
     "data": {
      "text/plain": [
       "2018-04-08 12:30    12\n",
       "2018-04-08 13:30    13\n",
       "Freq: 60T, dtype: int64"
      ]
     },
     "execution_count": 91,
     "metadata": {},
     "output_type": "execute_result"
    }
   ],
   "source": [
    "ts_period['2018-04-08 12']"
   ]
  },
  {
   "cell_type": "code",
   "execution_count": 97,
   "metadata": {},
   "outputs": [
    {
     "data": {
      "text/plain": [
       "2018-04-08 00:30     0\n",
       "2018-04-08 01:30     1\n",
       "2018-04-08 02:30     2\n",
       "2018-04-08 03:30     3\n",
       "2018-04-08 04:30     4\n",
       "2018-04-08 05:30     5\n",
       "2018-04-08 06:30     6\n",
       "2018-04-08 07:30     7\n",
       "2018-04-08 08:30     8\n",
       "2018-04-08 09:30     9\n",
       "2018-04-08 10:30    10\n",
       "2018-04-08 11:30    11\n",
       "2018-04-08 12:30    12\n",
       "2018-04-08 13:30    13\n",
       "2018-04-08 14:30    14\n",
       "2018-04-08 15:30    15\n",
       "2018-04-08 16:30    16\n",
       "2018-04-08 17:30    17\n",
       "2018-04-08 18:30    18\n",
       "2018-04-08 19:30    19\n",
       "2018-04-08 20:30    20\n",
       "2018-04-08 21:30    21\n",
       "2018-04-08 22:30    22\n",
       "2018-04-08 23:30    23\n",
       "2018-04-09 00:30    24\n",
       "Freq: 60T, dtype: int64"
      ]
     },
     "execution_count": 97,
     "metadata": {},
     "output_type": "execute_result"
    }
   ],
   "source": [
    "ts_period['2018-04-08']"
   ]
  },
  {
   "cell_type": "code",
   "execution_count": 107,
   "metadata": {},
   "outputs": [
    {
     "data": {
      "text/plain": [
       "2018-04-08 00:30     0\n",
       "2018-04-08 01:30     1\n",
       "2018-04-08 02:30     2\n",
       "2018-04-08 03:30     3\n",
       "2018-04-08 04:30     4\n",
       "2018-04-08 05:30     5\n",
       "2018-04-08 06:30     6\n",
       "2018-04-08 07:30     7\n",
       "2018-04-08 08:30     8\n",
       "2018-04-08 09:30     9\n",
       "2018-04-08 10:30    10\n",
       "2018-04-08 11:30    11\n",
       "2018-04-08 12:30    12\n",
       "2018-04-08 13:30    13\n",
       "2018-04-08 14:30    14\n",
       "2018-04-08 15:30    15\n",
       "2018-04-08 16:30    16\n",
       "2018-04-08 17:30    17\n",
       "2018-04-08 18:30    18\n",
       "2018-04-08 19:30    19\n",
       "2018-04-08 20:30    20\n",
       "2018-04-08 21:30    21\n",
       "2018-04-08 22:30    22\n",
       "2018-04-08 23:30    23\n",
       "2018-04-09 00:30    24\n",
       "2018-04-09 01:30    25\n",
       "2018-04-09 02:30    26\n",
       "2018-04-09 03:30    27\n",
       "2018-04-09 04:30    28\n",
       "2018-04-09 05:30    29\n",
       "                    ..\n",
       "2018-04-10 22:30    70\n",
       "2018-04-10 23:30    71\n",
       "2018-04-11 00:30    72\n",
       "2018-04-11 01:30    73\n",
       "2018-04-11 02:30    74\n",
       "2018-04-11 03:30    75\n",
       "2018-04-11 04:30    76\n",
       "2018-04-11 05:30    77\n",
       "2018-04-11 06:30    78\n",
       "2018-04-11 07:30    79\n",
       "2018-04-11 08:30    80\n",
       "2018-04-11 09:30    81\n",
       "2018-04-11 10:30    82\n",
       "2018-04-11 11:30    83\n",
       "2018-04-11 12:30    84\n",
       "2018-04-11 13:30    85\n",
       "2018-04-11 14:30    86\n",
       "2018-04-11 15:30    87\n",
       "2018-04-11 16:30    88\n",
       "2018-04-11 17:30    89\n",
       "2018-04-11 18:30    90\n",
       "2018-04-11 19:30    91\n",
       "2018-04-11 20:30    92\n",
       "2018-04-11 21:30    93\n",
       "2018-04-11 22:30    94\n",
       "2018-04-11 23:30    95\n",
       "2018-04-12 00:30    96\n",
       "2018-04-12 01:30    97\n",
       "2018-04-12 02:30    98\n",
       "2018-04-12 03:30    99\n",
       "Freq: 60T, Length: 100, dtype: int64"
      ]
     },
     "execution_count": 107,
     "metadata": {},
     "output_type": "execute_result"
    }
   ],
   "source": [
    "ts_period['2018-04-08':'2018-04-12'] # Using string as index it include the string value also unlike other indexes"
   ]
  },
  {
   "cell_type": "markdown",
   "metadata": {},
   "source": [
    "Create a Timestamp with a European style formatted date string."
   ]
  },
  {
   "cell_type": "code",
   "execution_count": 113,
   "metadata": {},
   "outputs": [
    {
     "data": {
      "text/plain": [
       "Timestamp('2018-04-08 00:00:00')"
      ]
     },
     "execution_count": 113,
     "metadata": {},
     "output_type": "execute_result"
    }
   ],
   "source": [
    "# 8 April 2018\n",
    "pd.to_datetime('8/4/2018', dayfirst=True)  # day first euro format"
   ]
  },
  {
   "cell_type": "code",
   "execution_count": 117,
   "metadata": {},
   "outputs": [
    {
     "data": {
      "text/plain": [
       "'2018-04-08'"
      ]
     },
     "execution_count": 117,
     "metadata": {},
     "output_type": "execute_result"
    }
   ],
   "source": [
    "pd.to_datetime('8/4/2018', dayfirst=True).strftime(format='%Y-%m-%d')  # M-minute, "
   ]
  },
  {
   "cell_type": "code",
   "execution_count": 119,
   "metadata": {},
   "outputs": [
    {
     "data": {
      "text/plain": [
       "2018-04-08 10:30    10\n",
       "2018-04-08 13:30    13\n",
       "2018-04-08 16:30    16\n",
       "2018-04-08 19:30    19\n",
       "2018-04-08 22:30    22\n",
       "2018-04-09 01:30    25\n",
       "2018-04-09 04:30    28\n",
       "2018-04-09 07:30    31\n",
       "2018-04-09 10:30    34\n",
       "2018-04-09 13:30    37\n",
       "2018-04-09 16:30    40\n",
       "2018-04-09 19:30    43\n",
       "2018-04-09 22:30    46\n",
       "2018-04-10 01:30    49\n",
       "2018-04-10 04:30    52\n",
       "2018-04-10 07:30    55\n",
       "2018-04-10 10:30    58\n",
       "2018-04-10 13:30    61\n",
       "2018-04-10 16:30    64\n",
       "2018-04-10 19:30    67\n",
       "2018-04-10 22:30    70\n",
       "2018-04-11 01:30    73\n",
       "2018-04-11 04:30    76\n",
       "2018-04-11 07:30    79\n",
       "2018-04-11 10:30    82\n",
       "2018-04-11 13:30    85\n",
       "2018-04-11 16:30    88\n",
       "2018-04-11 19:30    91\n",
       "2018-04-11 22:30    94\n",
       "2018-04-12 01:30    97\n",
       "Freq: 60T, dtype: int64"
      ]
     },
     "execution_count": 119,
     "metadata": {},
     "output_type": "execute_result"
    }
   ],
   "source": [
    "ts_pd[pd.Period('Apr 8, 2018 10', freq='60T')::3]\n",
    "# Indexes with interval of 3 hours"
   ]
  },
  {
   "cell_type": "code",
   "execution_count": 122,
   "metadata": {},
   "outputs": [
    {
     "data": {
      "text/plain": [
       "2018-04-08 10:30    10\n",
       "2018-04-08 13:30    13\n",
       "2018-04-08 16:30    16\n",
       "2018-04-08 19:30    19\n",
       "2018-04-08 22:30    22\n",
       "2018-04-09 01:30    25\n",
       "2018-04-09 04:30    28\n",
       "2018-04-09 07:30    31\n",
       "2018-04-09 10:30    34\n",
       "2018-04-09 13:30    37\n",
       "2018-04-09 16:30    40\n",
       "2018-04-09 19:30    43\n",
       "2018-04-09 22:30    46\n",
       "2018-04-10 01:30    49\n",
       "2018-04-10 04:30    52\n",
       "2018-04-10 07:30    55\n",
       "2018-04-10 10:30    58\n",
       "2018-04-10 13:30    61\n",
       "2018-04-10 16:30    64\n",
       "2018-04-10 19:30    67\n",
       "2018-04-10 22:30    70\n",
       "2018-04-11 01:30    73\n",
       "2018-04-11 04:30    76\n",
       "2018-04-11 07:30    79\n",
       "2018-04-11 10:30    82\n",
       "2018-04-11 13:30    85\n",
       "2018-04-11 16:30    88\n",
       "2018-04-11 19:30    91\n",
       "2018-04-11 22:30    94\n",
       "2018-04-12 01:30    97\n",
       "Freq: 60T, dtype: int64"
      ]
     },
     "execution_count": 122,
     "metadata": {},
     "output_type": "execute_result"
    }
   ],
   "source": [
    "# Without pd.Period\n",
    "ts_pd['Apr 8, 2018 10'::3]"
   ]
  },
  {
   "cell_type": "code",
   "execution_count": 123,
   "metadata": {},
   "outputs": [
    {
     "data": {
      "text/plain": [
       "2018-04-08 23:30    23\n",
       "2018-04-08 22:30    22\n",
       "2018-04-08 21:30    21\n",
       "2018-04-08 20:30    20\n",
       "2018-04-08 19:30    19\n",
       "2018-04-08 18:30    18\n",
       "2018-04-08 17:30    17\n",
       "2018-04-08 16:30    16\n",
       "2018-04-08 15:30    15\n",
       "2018-04-08 14:30    14\n",
       "2018-04-08 13:30    13\n",
       "2018-04-08 12:30    12\n",
       "2018-04-08 11:30    11\n",
       "2018-04-08 10:30    10\n",
       "2018-04-08 09:30     9\n",
       "2018-04-08 08:30     8\n",
       "2018-04-08 07:30     7\n",
       "2018-04-08 06:30     6\n",
       "2018-04-08 05:30     5\n",
       "2018-04-08 04:30     4\n",
       "2018-04-08 03:30     3\n",
       "2018-04-08 02:30     2\n",
       "2018-04-08 01:30     1\n",
       "2018-04-08 00:30     0\n",
       "Freq: 60T, dtype: int64"
      ]
     },
     "execution_count": 123,
     "metadata": {},
     "output_type": "execute_result"
    }
   ],
   "source": [
    "ts_pd['Apr 9, 2018 00:00'::-1]"
   ]
  }
 ],
 "metadata": {
  "kernelspec": {
   "display_name": "Python 3",
   "language": "python",
   "name": "python3"
  },
  "language_info": {
   "codemirror_mode": {
    "name": "ipython",
    "version": 3
   },
   "file_extension": ".py",
   "mimetype": "text/x-python",
   "name": "python",
   "nbconvert_exporter": "python",
   "pygments_lexer": "ipython3",
   "version": "3.6.3"
  }
 },
 "nbformat": 4,
 "nbformat_minor": 2
}
