{
 "cells": [
  {
   "cell_type": "code",
   "execution_count": 1,
   "metadata": {
    "collapsed": true
   },
   "outputs": [],
   "source": [
    "import numpy as np\n",
    "import pandas as pd"
   ]
  },
  {
   "cell_type": "code",
   "execution_count": 5,
   "metadata": {},
   "outputs": [],
   "source": [
    "rng = pd.date_range('4/12/2018', periods=72, freq='H')"
   ]
  },
  {
   "cell_type": "code",
   "execution_count": 14,
   "metadata": {},
   "outputs": [],
   "source": [
    "ts = pd.Series(list(range(len(rng))), index=rng)"
   ]
  },
  {
   "cell_type": "code",
   "execution_count": 18,
   "metadata": {},
   "outputs": [
    {
     "data": {
      "text/plain": [
       "2018-04-12 00:00:00     0\n",
       "2018-04-12 00:45:00     0\n",
       "2018-04-12 01:30:00     1\n",
       "2018-04-12 02:15:00     2\n",
       "2018-04-12 03:00:00     3\n",
       "2018-04-12 03:45:00     3\n",
       "2018-04-12 04:30:00     4\n",
       "2018-04-12 05:15:00     5\n",
       "2018-04-12 06:00:00     6\n",
       "2018-04-12 06:45:00     6\n",
       "2018-04-12 07:30:00     7\n",
       "2018-04-12 08:15:00     8\n",
       "2018-04-12 09:00:00     9\n",
       "2018-04-12 09:45:00     9\n",
       "2018-04-12 10:30:00    10\n",
       "Freq: 45T, dtype: int64"
      ]
     },
     "execution_count": 18,
     "metadata": {},
     "output_type": "execute_result"
    }
   ],
   "source": [
    "# ffill will fill the values wher value are not present in 45 Min interval eg. in ts 00:45 was not present but its present here so fill it by ffill\n",
    "converted = ts.asfreq('45Min', method='ffill') \n",
    "converted.head(15)"
   ]
  },
  {
   "cell_type": "code",
   "execution_count": 19,
   "metadata": {},
   "outputs": [
    {
     "name": "stdout",
     "output_type": "stream",
     "text": [
      "(72,)\n",
      "(95,)\n"
     ]
    }
   ],
   "source": [
    "print(ts.shape)\n",
    "print(converted.shape)"
   ]
  },
  {
   "cell_type": "code",
   "execution_count": 20,
   "metadata": {},
   "outputs": [
    {
     "data": {
      "text/plain": [
       "2018-04-12 00:00:00     0\n",
       "2018-04-12 03:00:00     3\n",
       "2018-04-12 06:00:00     6\n",
       "2018-04-12 09:00:00     9\n",
       "2018-04-12 12:00:00    12\n",
       "2018-04-12 15:00:00    15\n",
       "2018-04-12 18:00:00    18\n",
       "2018-04-12 21:00:00    21\n",
       "2018-04-13 00:00:00    24\n",
       "2018-04-13 03:00:00    27\n",
       "2018-04-13 06:00:00    30\n",
       "2018-04-13 09:00:00    33\n",
       "2018-04-13 12:00:00    36\n",
       "2018-04-13 15:00:00    39\n",
       "2018-04-13 18:00:00    42\n",
       "2018-04-13 21:00:00    45\n",
       "2018-04-14 00:00:00    48\n",
       "2018-04-14 03:00:00    51\n",
       "2018-04-14 06:00:00    54\n",
       "2018-04-14 09:00:00    57\n",
       "2018-04-14 12:00:00    60\n",
       "2018-04-14 15:00:00    63\n",
       "2018-04-14 18:00:00    66\n",
       "2018-04-14 21:00:00    69\n",
       "Freq: 3H, dtype: int64"
      ]
     },
     "execution_count": 20,
     "metadata": {},
     "output_type": "execute_result"
    }
   ],
   "source": [
    "converted = ts.asfreq('3H')\n",
    "converted"
   ]
  },
  {
   "cell_type": "markdown",
   "metadata": {},
   "source": [
    "# Resample"
   ]
  },
  {
   "cell_type": "code",
   "execution_count": 23,
   "metadata": {},
   "outputs": [
    {
     "data": {
      "text/plain": [
       "2018-04-12 00:00:00     0.5\n",
       "2018-04-12 02:00:00     2.5\n",
       "2018-04-12 04:00:00     4.5\n",
       "2018-04-12 06:00:00     6.5\n",
       "2018-04-12 08:00:00     8.5\n",
       "2018-04-12 10:00:00    10.5\n",
       "2018-04-12 12:00:00    12.5\n",
       "2018-04-12 14:00:00    14.5\n",
       "2018-04-12 16:00:00    16.5\n",
       "2018-04-12 18:00:00    18.5\n",
       "2018-04-12 20:00:00    20.5\n",
       "2018-04-12 22:00:00    22.5\n",
       "2018-04-13 00:00:00    24.5\n",
       "2018-04-13 02:00:00    26.5\n",
       "2018-04-13 04:00:00    28.5\n",
       "2018-04-13 06:00:00    30.5\n",
       "2018-04-13 08:00:00    32.5\n",
       "2018-04-13 10:00:00    34.5\n",
       "2018-04-13 12:00:00    36.5\n",
       "2018-04-13 14:00:00    38.5\n",
       "2018-04-13 16:00:00    40.5\n",
       "2018-04-13 18:00:00    42.5\n",
       "2018-04-13 20:00:00    44.5\n",
       "2018-04-13 22:00:00    46.5\n",
       "2018-04-14 00:00:00    48.5\n",
       "2018-04-14 02:00:00    50.5\n",
       "2018-04-14 04:00:00    52.5\n",
       "2018-04-14 06:00:00    54.5\n",
       "2018-04-14 08:00:00    56.5\n",
       "2018-04-14 10:00:00    58.5\n",
       "2018-04-14 12:00:00    60.5\n",
       "2018-04-14 14:00:00    62.5\n",
       "2018-04-14 16:00:00    64.5\n",
       "2018-04-14 18:00:00    66.5\n",
       "2018-04-14 20:00:00    68.5\n",
       "2018-04-14 22:00:00    70.5\n",
       "Freq: 2H, dtype: float64"
      ]
     },
     "execution_count": 23,
     "metadata": {},
     "output_type": "execute_result"
    }
   ],
   "source": [
    "ts.resample('2H').mean()"
   ]
  },
  {
   "cell_type": "markdown",
   "metadata": {},
   "source": [
    "We can also use resample to event out irregular time series"
   ]
  },
  {
   "cell_type": "code",
   "execution_count": 34,
   "metadata": {},
   "outputs": [
    {
     "data": {
      "text/plain": [
       "2018-04-13 21:00:00    45\n",
       "2018-04-14 00:00:00    48\n",
       "2018-04-12 05:00:00     5\n",
       "2018-04-12 08:00:00     8\n",
       "2018-04-12 17:00:00    17\n",
       "2018-04-13 20:00:00    44\n",
       "2018-04-12 00:00:00     0\n",
       "2018-04-12 10:00:00    10\n",
       "2018-04-13 01:00:00    25\n",
       "2018-04-12 23:00:00    23\n",
       "dtype: int64"
      ]
     },
     "execution_count": 34,
     "metadata": {},
     "output_type": "execute_result"
    }
   ],
   "source": [
    "irreg_ts = ts[list(np.random.choice(a = list(range(len(ts))), size=10, replace=False))]\n",
    "irreg_ts"
   ]
  },
  {
   "cell_type": "code",
   "execution_count": 35,
   "metadata": {},
   "outputs": [
    {
     "data": {
      "text/plain": [
       "Series([], Freq: D, dtype: int64)"
      ]
     },
     "execution_count": 35,
     "metadata": {},
     "output_type": "execute_result"
    }
   ],
   "source": [
    "irreg_ts.asfreq('D')"
   ]
  },
  {
   "cell_type": "markdown",
   "metadata": {},
   "source": [
    "No output since they are non-consecutive, so lets reorder first"
   ]
  },
  {
   "cell_type": "code",
   "execution_count": 36,
   "metadata": {},
   "outputs": [
    {
     "data": {
      "text/plain": [
       "2018-04-12 00:00:00     0\n",
       "2018-04-12 05:00:00     5\n",
       "2018-04-12 08:00:00     8\n",
       "2018-04-12 10:00:00    10\n",
       "2018-04-12 17:00:00    17\n",
       "2018-04-12 23:00:00    23\n",
       "2018-04-13 01:00:00    25\n",
       "2018-04-13 20:00:00    44\n",
       "2018-04-13 21:00:00    45\n",
       "2018-04-14 00:00:00    48\n",
       "dtype: int64"
      ]
     },
     "execution_count": 36,
     "metadata": {},
     "output_type": "execute_result"
    }
   ],
   "source": [
    "irreg_ts = irreg_ts.sort_index()\n",
    "irreg_ts"
   ]
  },
  {
   "cell_type": "code",
   "execution_count": 43,
   "metadata": {},
   "outputs": [
    {
     "data": {
      "text/plain": [
       "2018-04-12     0.0\n",
       "2018-04-13     NaN\n",
       "2018-04-14    48.0\n",
       "Freq: D, dtype: float64"
      ]
     },
     "execution_count": 43,
     "metadata": {},
     "output_type": "execute_result"
    }
   ],
   "source": [
    "irreg_ts.asfreq('D')"
   ]
  },
  {
   "cell_type": "code",
   "execution_count": 41,
   "metadata": {},
   "outputs": [
    {
     "data": {
      "text/plain": [
       "2018-04-12    6\n",
       "2018-04-13    3\n",
       "2018-04-14    1\n",
       "Freq: D, dtype: int64"
      ]
     },
     "execution_count": 41,
     "metadata": {},
     "output_type": "execute_result"
    }
   ],
   "source": [
    "irreg_ts.resample('D').count()"
   ]
  },
  {
   "cell_type": "code",
   "execution_count": null,
   "metadata": {
    "collapsed": true
   },
   "outputs": [],
   "source": []
  }
 ],
 "metadata": {
  "kernelspec": {
   "display_name": "Python 3",
   "language": "python",
   "name": "python3"
  },
  "language_info": {
   "codemirror_mode": {
    "name": "ipython",
    "version": 3
   },
   "file_extension": ".py",
   "mimetype": "text/x-python",
   "name": "python",
   "nbconvert_exporter": "python",
   "pygments_lexer": "ipython3",
   "version": "3.6.3"
  }
 },
 "nbformat": 4,
 "nbformat_minor": 2
}
